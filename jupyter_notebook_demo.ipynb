{
 "cells": [
  {
   "cell_type": "code",
   "execution_count": null,
   "id": "b83e418c",
   "metadata": {},
   "outputs": [],
   "source": []
  },
  {
   "cell_type": "markdown",
   "id": "c2afb570",
   "metadata": {},
   "source": [
    "Running print statements for jupyter notebook intro\n",
    "\n",
    "# Heading 1 \n",
    "## Heading 2\n",
    "How to bold text: **bold**\n",
    "*italicize*\n",
    "1. numbered list\n",
    "1. numbered list 2\n",
    "\n",
    "* bullet list"
   ]
  },
  {
   "cell_type": "code",
   "execution_count": 1,
   "id": "46d256cc",
   "metadata": {},
   "outputs": [
    {
     "name": "stdout",
     "output_type": "stream",
     "text": [
      "Hello World\n"
     ]
    }
   ],
   "source": [
    "print (\"Hello World\")"
   ]
  },
  {
   "cell_type": "code",
   "execution_count": null,
   "id": "cd2d20a4",
   "metadata": {},
   "outputs": [],
   "source": []
  }
 ],
 "metadata": {
  "kernelspec": {
   "display_name": "Python 3 (ipykernel)",
   "language": "python",
   "name": "python3"
  },
  "language_info": {
   "codemirror_mode": {
    "name": "ipython",
    "version": 3
   },
   "file_extension": ".py",
   "mimetype": "text/x-python",
   "name": "python",
   "nbconvert_exporter": "python",
   "pygments_lexer": "ipython3",
   "version": "3.10.9"
  }
 },
 "nbformat": 4,
 "nbformat_minor": 5
}
