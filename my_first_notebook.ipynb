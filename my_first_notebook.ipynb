{
 "cells": [
  {
   "cell_type": "markdown",
   "id": "b0dd45bc",
   "metadata": {},
   "source": [
    "A: creates cell above"
   ]
  },
  {
   "cell_type": "markdown",
   "id": "0409c946",
   "metadata": {},
   "source": [
    "M: turns cell into markdown cell"
   ]
  },
  {
   "cell_type": "markdown",
   "id": "9a0a7253",
   "metadata": {},
   "source": [
    "Y: turns markdown cell into python code cell"
   ]
  }
 ],
 "metadata": {
  "kernelspec": {
   "display_name": "Python 3 (ipykernel)",
   "language": "python",
   "name": "python3"
  },
  "language_info": {
   "codemirror_mode": {
    "name": "ipython",
    "version": 3
   },
   "file_extension": ".py",
   "mimetype": "text/x-python",
   "name": "python",
   "nbconvert_exporter": "python",
   "pygments_lexer": "ipython3",
   "version": "3.10.9"
  }
 },
 "nbformat": 4,
 "nbformat_minor": 5
}
