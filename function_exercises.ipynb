{
 "cells": [
  {
   "cell_type": "code",
   "execution_count": null,
   "metadata": {},
   "outputs": [],
   "source": [
    "# 1. returns True if input is 2, otherwise False\n",
    "\n",
    "def is_two(x):\n",
    "    # check to see if number is a string or integer 2\n",
    "    if x == '2' or x == 2:\n",
    "        #return a boolean that indicates status of x\n",
    "        return True\n",
    "    # give an alternative in every other circumstance\n",
    "    else:\n",
    "        # provide boolean for that alternative\n",
    "        return False"
   ]
  },
  {
   "cell_type": "code",
   "execution_count": null,
   "metadata": {},
   "outputs": [],
   "source": [
    "\n",
    "# 2. Returns if is a vowel or not with boolean. Bottom problem utilizes .lower() to take any provided string\n",
    "\n",
    "def is_vowel(char):\n",
    "   \n",
    "    vowels = ('a', 'e', 'i', 'u', 'o', 'A', 'E', 'I', 'O', 'U',)\n",
    "   \n",
    "    if char not in vowels:    \n",
    "        return False\n",
    "   \n",
    "    else:\n",
    "        return True\n",
    "\n",
    "#--------------------------------------------------------------------------\n",
    "\n",
    "def is_vowel(x):\n",
    "    return x.lower() in 'aeiou'\n"
   ]
  },
  {
   "cell_type": "code",
   "execution_count": null,
   "metadata": {},
   "outputs": [],
   "source": [
    "# 3. return true if string is consonant\n",
    "\n",
    "def is_consonant(char):\n",
    "    vowels = ('a', 'e', 'i', 'u', 'o')\n",
    "    if char in vowels:    \n",
    "        return False\n",
    "    else:\n",
    "        return True  \n"
   ]
  },
  {
   "cell_type": "code",
   "execution_count": null,
   "metadata": {},
   "outputs": [],
   "source": [
    "# 4. Accepts a string as a word. Capitalize first letter of a word if said word starts with a consonant\n",
    "\n",
    "def "
   ]
  }
 ],
 "metadata": {
  "kernelspec": {
   "display_name": "Python 3",
   "language": "python",
   "name": "python3"
  },
  "language_info": {
   "name": "python",
   "version": "3.9.6"
  },
  "orig_nbformat": 4
 },
 "nbformat": 4,
 "nbformat_minor": 2
}
