{
 "cells": [
  {
   "cell_type": "code",
   "execution_count": 8,
   "metadata": {},
   "outputs": [
    {
     "data": {
      "text/plain": [
       "dict"
      ]
     },
     "execution_count": 8,
     "metadata": {},
     "output_type": "execute_result"
    }
   ],
   "source": [
    "# 1.\n",
    "\n",
    "type(99.9)\n",
    "#Float\n",
    "type(\"False\")\n",
    "#str\n",
    "type(False)\n",
    "#bool\n",
    "type('0')\n",
    "#str\n",
    "type(0)\n",
    "#int\n",
    "type(True)\n",
    "#bool\n",
    "type('True')\n",
    "#str\n",
    "type([{}])\n",
    "#list\n",
    "type({'a': []})\n",
    "#dict\n",
    "\n"
   ]
  },
  {
   "cell_type": "code",
   "execution_count": null,
   "metadata": {},
   "outputs": [],
   "source": [
    "# 2. \n",
    "\n",
    "#a. String\n",
    "#b. Bool\n",
    "#c. Float\n",
    "#d. Bool\n",
    "#e. String\n",
    "#f. Float\n",
    "#g. list\n",
    "#h. dict"
   ]
  },
  {
   "cell_type": "code",
   "execution_count": null,
   "metadata": {},
   "outputs": [],
   "source": [
    "# 3.\n",
    "\n",
    "#done in REPL"
   ]
  },
  {
   "cell_type": "code",
   "execution_count": 11,
   "metadata": {},
   "outputs": [
    {
     "data": {
      "text/plain": [
       "27"
      ]
     },
     "execution_count": 11,
     "metadata": {},
     "output_type": "execute_result"
    }
   ],
   "source": [
    "# 4. \n",
    "# 5. \n",
    "\n",
    "total_fee = (3 + 5 + 1) * 3\n",
    "total_fee\n",
    "27\n",
    "\n",
    "little_mermaid = 3\n",
    "brother_bear = 5\n",
    "hercules = 1\n",
    "price_per_day = 3\n",
    "\n",
    "price_total = price_per_day *(little_mermaid + brother_bear + hercules)\n",
    "print(f'${price_total}')\n"
   ]
  },
  {
   "cell_type": "code",
   "execution_count": null,
   "metadata": {},
   "outputs": [],
   "source": [
    "# 6. \n",
    "\n",
    "total_pay = (10 * 350) + (6 * 400) + (4 * 380)\n",
    "total_pay\n",
    "7420\n",
    "\n",
    "\n",
    "Google_pay = 400\n",
    "Google_hrs = 6\n",
    "\n",
    "Amazon_pay= 380\n",
    "Amazon_hrs = 4\n",
    "\n",
    "Facebook_pay = 350\n",
    "Facebook_hrs = 10\n",
    "\n",
    "weekly_pay = (Facebook_pay * Facebook_hrs) + (Google_pay * Google_hrs) + (Amazon_pay * Amazon_hrs)\n",
    "print(f'my pay this week is ${weekly_pay}')\n",
    "\n"
   ]
  },
  {
   "cell_type": "code",
   "execution_count": null,
   "metadata": {},
   "outputs": [],
   "source": [
    "# 7. \n",
    "class_full = False\n",
    "schedule_conflict = False\n",
    "\n",
    "can_enroll = not class_full and not schedule_conflict"
   ]
  },
  {
   "cell_type": "code",
   "execution_count": null,
   "metadata": {},
   "outputs": [],
   "source": [
    "# 8.\n",
    "\n",
    "purchases = 3\n",
    "offer_expired = False\n",
    "premium_member = False\n",
    "\n",
    "offer_can_apply = purchases > 2 and offer_expired == False  or premium_member == True and offer_expired == False "
   ]
  },
  {
   "cell_type": "code",
   "execution_count": null,
   "metadata": {},
   "outputs": [],
   "source": [
    "# 9.\n",
    "username = 'codeup'\n",
    "password = 'notastrongpassword'\n",
    "substring = ' '\n",
    "\n",
    "valid_password = len(password) >= 5 and len(password) <= 20 and password != username and substring not in password"
   ]
  }
 ],
 "metadata": {
  "kernelspec": {
   "display_name": "Python 3",
   "language": "python",
   "name": "python3"
  },
  "language_info": {
   "codemirror_mode": {
    "name": "ipython",
    "version": 3
   },
   "file_extension": ".py",
   "mimetype": "text/x-python",
   "name": "python",
   "nbconvert_exporter": "python",
   "pygments_lexer": "ipython3",
   "version": "3.9.6"
  },
  "orig_nbformat": 4
 },
 "nbformat": 4,
 "nbformat_minor": 2
}
